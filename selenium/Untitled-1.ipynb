{
 "cells": [
  {
   "cell_type": "code",
   "execution_count": null,
   "metadata": {},
   "outputs": [],
   "source": [
    "!pip3 install selenium"
   ]
  },
  {
   "cell_type": "code",
   "execution_count": 41,
   "metadata": {},
   "outputs": [],
   "source": [
    "from selenium import webdriver\n",
    "from selenium.webdriver.common.by import By\n",
    "from selenium.webdriver.common.keys import Keys\n",
    "from selenium.webdriver.support.ui import Select"
   ]
  },
  {
   "cell_type": "code",
   "execution_count": 31,
   "metadata": {},
   "outputs": [],
   "source": [
    "driver = webdriver.Chrome()\n",
    "driver.get('https://xn--hz2b1j494a9mhnwh.com/')"
   ]
  },
  {
   "cell_type": "code",
   "execution_count": 3,
   "metadata": {},
   "outputs": [],
   "source": [
    "from bs4 import BeautifulSoup"
   ]
  },
  {
   "cell_type": "code",
   "execution_count": 66,
   "metadata": {},
   "outputs": [],
   "source": [
    "path1 = driver.find_element(By.XPATH, '//option[@value=\"1\"]')\n",
    "path1.click()"
   ]
  },
  {
   "cell_type": "code",
   "execution_count": 88,
   "metadata": {},
   "outputs": [],
   "source": [
    "# 검색필터 조건 설정\n",
    "serch_input1 = driver.find_element(By.ID,'armor_detail_option_input1')\n",
    "serch_input1.send_keys('12')\n",
    "serch_input2 = driver.find_element(By.ID,'armor_detail_option_input2')\n",
    "serch_input2.send_keys('9')\n",
    "\n",
    "\n",
    "Select1 = Select(driver.find_element(By.ID,'armor_detail_option_select1'))\n",
    "Select1.select_by_value('35')\n",
    "Select2 = Select(driver.find_element(By.ID,'armor_detail_option_select2'))\n",
    "Select2.select_by_value('35')\n",
    "    "
   ]
  },
  {
   "cell_type": "code",
   "execution_count": 89,
   "metadata": {},
   "outputs": [],
   "source": [
    "# 검색버튼 클릭\n",
    "path2 = driver.find_element(By.CSS_SELECTOR, 'div.input-group > div:nth-child(1) > button')\n",
    "path2.click()"
   ]
  },
  {
   "cell_type": "code",
   "execution_count": 91,
   "metadata": {},
   "outputs": [],
   "source": [
    "# 페이지 불러오기\n",
    "html = driver.page_source\n",
    "soup =BeautifulSoup(html,'html.parser')"
   ]
  },
  {
   "cell_type": "code",
   "execution_count": null,
   "metadata": {},
   "outputs": [],
   "source": [
    "# 원하는 정보만 선택\n",
    "soup.select('#customer-wishlist-table-body')"
   ]
  }
 ],
 "metadata": {
  "kernelspec": {
   "display_name": "Python 3",
   "language": "python",
   "name": "python3"
  },
  "language_info": {
   "codemirror_mode": {
    "name": "ipython",
    "version": 3
   },
   "file_extension": ".py",
   "mimetype": "text/x-python",
   "name": "python",
   "nbconvert_exporter": "python",
   "pygments_lexer": "ipython3",
   "version": "3.12.2"
  }
 },
 "nbformat": 4,
 "nbformat_minor": 2
}
